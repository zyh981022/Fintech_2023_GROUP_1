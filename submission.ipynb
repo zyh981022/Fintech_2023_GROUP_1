{
 "cells": [
  {
   "cell_type": "code",
   "execution_count": 1,
   "outputs": [],
   "source": [
    "import pandas as pd\n",
    "import os\n",
    "import joblib\n",
    "import numpy as np"
   ],
   "metadata": {
    "collapsed": false,
    "pycharm": {
     "name": "#%%\n"
    }
   }
  },
  {
   "cell_type": "code",
   "execution_count": 2,
   "outputs": [],
   "source": [
    "if_debug = False\n",
    "KFOLD = 5\n",
    "# sample upload file path\n",
    "sample_upload_file_path1 = r\"E:\\新桌面文件存放位置\\招商银行\\数据集\\科创企业行业先进性判断子模型\\upload.csv\"\n",
    "sample_upload_file_path2 = r\"E:\\新桌面文件存放位置\\招商银行\\数据集\\科创企业成长潜力模型\\upload.csv\"\n",
    "\n",
    "upload_file1 = pd.read_csv(sample_upload_file_path1)\n",
    "upload_file2 = pd.read_csv(sample_upload_file_path2)"
   ],
   "metadata": {
    "collapsed": false,
    "pycharm": {
     "name": "#%%\n"
    }
   }
  },
  {
   "cell_type": "code",
   "execution_count": 3,
   "outputs": [],
   "source": [
    "upload_fold_name = '07012032_try' # 本次提交的输出文件夹路径\n",
    "upload_path = os.path.join('./upload_file', upload_fold_name)\n",
    "if not os.path.exists(upload_path):\n",
    "    os.makedirs(upload_path)"
   ],
   "metadata": {
    "collapsed": false,
    "pycharm": {
     "name": "#%%\n"
    }
   }
  },
  {
   "cell_type": "code",
   "execution_count": 4,
   "outputs": [
    {
     "data": {
      "text/plain": "0.29"
     },
     "execution_count": 4,
     "metadata": {},
     "output_type": "execute_result"
    }
   ],
   "source": [
    "save_model_dir_path = r'./save_models/0701_1930'\n",
    "with open(os.path.join(save_model_dir_path, 'threshold.txt'), 'r') as f:\n",
    "    line = f.readline()\n",
    "    ths = line.strip().split(' ')\n",
    "    ths = [float(x) for x in ths]\n",
    "    best_ths = sum(ths) / KFOLD\n",
    "best_ths"
   ],
   "metadata": {
    "collapsed": false,
    "pycharm": {
     "name": "#%%\n"
    }
   }
  },
  {
   "cell_type": "code",
   "execution_count": 5,
   "outputs": [],
   "source": [
    "# upload_file1"
   ],
   "metadata": {
    "collapsed": false,
    "pycharm": {
     "name": "#%%\n"
    }
   }
  },
  {
   "cell_type": "code",
   "execution_count": 6,
   "outputs": [],
   "source": [
    "# upload_file2"
   ],
   "metadata": {
    "collapsed": false,
    "pycharm": {
     "name": "#%%\n"
    }
   }
  },
  {
   "cell_type": "code",
   "execution_count": 7,
   "outputs": [],
   "source": [
    "if if_debug:\n",
    "    # 测试提交\n",
    "    upload_file1['score'] = 0\n",
    "    upload_file1['Y'] = 0\n",
    "    upload_file2['score'] = 0\n",
    "    upload_file2['Y'] = 0\n",
    "else:\n",
    "    # test_data_path1 = ''\n",
    "\n",
    "    # 任务二提交\n",
    "    upload_file1['score'] = 0\n",
    "    upload_file1['Y'] = 0\n",
    "    test_data_path2 = r'./processed_data/all_data_1930.csv'\n",
    "    all_data = pd.read_csv(test_data_path2)\n",
    "    all_features = list(all_data.columns)\n",
    "    all_features = [x for x in all_features if x not in ['Unnamed: 0', 'ID', 'score','Y',]]\n",
    "\n",
    "    all_test_data = all_data[all_data['Y']==-1]\n",
    "    dftest_X = all_test_data[all_features]\n",
    "    dftest_X = dftest_X.fillna(0) # 填充0\n",
    "\n",
    "    # 加载模型\n",
    "    oof_pred = []\n",
    "    for i in range(KFOLD):\n",
    "        lgbm_loaded = joblib.load(os.path.join(save_model_dir_path, f'model_{i}.pkl'))\n",
    "        each_fold_predict = lgbm_loaded.predict_proba(dftest_X)[:,1]\n",
    "        oof_pred.append(each_fold_predict)\n",
    "        # all_test_data['pred_score'] = lgbm_loaded.predict_proba(dftest_X)[:,1]\n",
    "        # print('y_prob:', y_prob)\n",
    "        # upload_file2 = upload_file2.merge(all_test_data[['ID', 'pred_score']], on='ID', how=\"left\")\n"
   ],
   "metadata": {
    "collapsed": false,
    "pycharm": {
     "name": "#%%\n"
    }
   }
  },
  {
   "cell_type": "code",
   "execution_count": 8,
   "outputs": [
    {
     "name": "stderr",
     "output_type": "stream",
     "text": [
      "C:\\Users\\HP\\AppData\\Local\\Temp\\ipykernel_30604\\2075056530.py:2: SettingWithCopyWarning: \n",
      "A value is trying to be set on a copy of a slice from a DataFrame.\n",
      "Try using .loc[row_indexer,col_indexer] = value instead\n",
      "\n",
      "See the caveats in the documentation: https://pandas.pydata.org/pandas-docs/stable/user_guide/indexing.html#returning-a-view-versus-a-copy\n",
      "  all_test_data['pred_score'] = pred_all\n"
     ]
    }
   ],
   "source": [
    "pred_all = np.sum(np.array(oof_pred), axis=0)/KFOLD\n",
    "all_test_data['pred_score'] = pred_all"
   ],
   "metadata": {
    "collapsed": false,
    "pycharm": {
     "name": "#%%\n"
    }
   }
  },
  {
   "cell_type": "code",
   "execution_count": 9,
   "outputs": [],
   "source": [
    "upload_file2 = upload_file2.merge(all_test_data[['ID', 'pred_score']], on='ID', how=\"left\")\n",
    "upload_file2 = upload_file2[['ID', 'pred_score']]\n",
    "upload_file2.rename(columns={'pred_score':'score'}, inplace=True)\n",
    "upload_file2['Y'] = 1\n",
    "upload_file2.loc[upload_file2['score'] < 0.5, 'Y'] = 0"
   ],
   "metadata": {
    "collapsed": false,
    "pycharm": {
     "name": "#%%\n"
    }
   }
  },
  {
   "cell_type": "code",
   "execution_count": 9,
   "outputs": [],
   "source": [],
   "metadata": {
    "collapsed": false,
    "pycharm": {
     "name": "#%%\n"
    }
   }
  },
  {
   "cell_type": "code",
   "execution_count": 9,
   "outputs": [],
   "source": [],
   "metadata": {
    "collapsed": false,
    "pycharm": {
     "name": "#%%\n"
    }
   }
  },
  {
   "cell_type": "markdown",
   "source": [],
   "metadata": {
    "collapsed": false,
    "pycharm": {
     "name": "#%% md\n"
    }
   }
  },
  {
   "cell_type": "code",
   "execution_count": 10,
   "outputs": [],
   "source": [
    "# 保存数据集\n",
    "upload_file1_path = os.path.join(upload_path, 'upload1.csv')\n",
    "upload_file2_path = os.path.join(upload_path, 'upload2.csv')\n",
    "\n",
    "upload_file1.to_csv(upload_file1_path, encoding='utf-8-sig', index=False)\n",
    "upload_file2.to_csv(upload_file2_path, encoding='utf-8-sig', index=False)"
   ],
   "metadata": {
    "collapsed": false,
    "pycharm": {
     "name": "#%%\n"
    }
   }
  },
  {
   "cell_type": "code",
   "execution_count": 11,
   "outputs": [
    {
     "data": {
      "text/plain": "197"
     },
     "execution_count": 11,
     "metadata": {},
     "output_type": "execute_result"
    }
   ],
   "source": [
    "upload_file2['Y'].sum()"
   ],
   "metadata": {
    "collapsed": false,
    "pycharm": {
     "name": "#%%\n"
    }
   }
  },
  {
   "cell_type": "code",
   "execution_count": 11,
   "outputs": [],
   "source": [],
   "metadata": {
    "collapsed": false,
    "pycharm": {
     "name": "#%%\n"
    }
   }
  },
  {
   "cell_type": "code",
   "execution_count": 11,
   "outputs": [],
   "source": [],
   "metadata": {
    "collapsed": false,
    "pycharm": {
     "name": "#%%\n"
    }
   }
  }
 ],
 "metadata": {
  "kernelspec": {
   "display_name": "Python 3",
   "language": "python",
   "name": "python3"
  },
  "language_info": {
   "codemirror_mode": {
    "name": "ipython",
    "version": 2
   },
   "file_extension": ".py",
   "mimetype": "text/x-python",
   "name": "python",
   "nbconvert_exporter": "python",
   "pygments_lexer": "ipython2",
   "version": "2.7.6"
  }
 },
 "nbformat": 4,
 "nbformat_minor": 0
}