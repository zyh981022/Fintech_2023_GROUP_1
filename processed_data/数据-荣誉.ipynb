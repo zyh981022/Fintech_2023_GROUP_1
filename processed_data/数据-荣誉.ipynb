{
 "cells": [
  {
   "cell_type": "code",
   "execution_count": 1,
   "id": "1180d8d4",
   "metadata": {},
   "outputs": [],
   "source": [
    "import os\n",
    "import pandas as pd \n",
    "import numpy as np"
   ]
  },
  {
   "cell_type": "code",
   "execution_count": 2,
   "id": "4614ed3d",
   "metadata": {},
   "outputs": [],
   "source": [
    "train = pd.read_csv('./数据集/科创企业成长潜力模型/label/train_2.csv')\n",
    "train.rename(columns={'label':'Y'}, inplace = True)\n",
    "test = pd.read_csv('./数据集/科创企业成长潜力模型/upload.csv')\n",
    "\n",
    "data_all = pd.concat((train[['ID','Y']],test[['ID','Y']]))"
   ]
  },
  {
   "cell_type": "code",
   "execution_count": 3,
   "id": "67d80457",
   "metadata": {},
   "outputs": [
    {
     "data": {
      "text/html": [
       "<div>\n",
       "<style scoped>\n",
       "    .dataframe tbody tr th:only-of-type {\n",
       "        vertical-align: middle;\n",
       "    }\n",
       "\n",
       "    .dataframe tbody tr th {\n",
       "        vertical-align: top;\n",
       "    }\n",
       "\n",
       "    .dataframe thead th {\n",
       "        text-align: right;\n",
       "    }\n",
       "</style>\n",
       "<table border=\"1\" class=\"dataframe\">\n",
       "  <thead>\n",
       "    <tr style=\"text-align: right;\">\n",
       "      <th></th>\n",
       "      <th>ID</th>\n",
       "      <th>Y</th>\n",
       "    </tr>\n",
       "  </thead>\n",
       "  <tbody>\n",
       "    <tr>\n",
       "      <th>0</th>\n",
       "      <td>corp_1001749</td>\n",
       "      <td>0.0</td>\n",
       "    </tr>\n",
       "    <tr>\n",
       "      <th>1</th>\n",
       "      <td>corp_1001231</td>\n",
       "      <td>0.0</td>\n",
       "    </tr>\n",
       "    <tr>\n",
       "      <th>2</th>\n",
       "      <td>corp_1004522</td>\n",
       "      <td>0.0</td>\n",
       "    </tr>\n",
       "    <tr>\n",
       "      <th>3</th>\n",
       "      <td>corp_1001738</td>\n",
       "      <td>1.0</td>\n",
       "    </tr>\n",
       "    <tr>\n",
       "      <th>4</th>\n",
       "      <td>corp_1003948</td>\n",
       "      <td>1.0</td>\n",
       "    </tr>\n",
       "    <tr>\n",
       "      <th>...</th>\n",
       "      <td>...</td>\n",
       "      <td>...</td>\n",
       "    </tr>\n",
       "    <tr>\n",
       "      <th>517</th>\n",
       "      <td>corp_1000552</td>\n",
       "      <td>NaN</td>\n",
       "    </tr>\n",
       "    <tr>\n",
       "      <th>518</th>\n",
       "      <td>corp_1001079</td>\n",
       "      <td>NaN</td>\n",
       "    </tr>\n",
       "    <tr>\n",
       "      <th>519</th>\n",
       "      <td>corp_1004730</td>\n",
       "      <td>NaN</td>\n",
       "    </tr>\n",
       "    <tr>\n",
       "      <th>520</th>\n",
       "      <td>corp_1000350</td>\n",
       "      <td>NaN</td>\n",
       "    </tr>\n",
       "    <tr>\n",
       "      <th>521</th>\n",
       "      <td>corp_1002156</td>\n",
       "      <td>NaN</td>\n",
       "    </tr>\n",
       "  </tbody>\n",
       "</table>\n",
       "<p>5022 rows × 2 columns</p>\n",
       "</div>"
      ],
      "text/plain": [
       "               ID    Y\n",
       "0    corp_1001749  0.0\n",
       "1    corp_1001231  0.0\n",
       "2    corp_1004522  0.0\n",
       "3    corp_1001738  1.0\n",
       "4    corp_1003948  1.0\n",
       "..            ...  ...\n",
       "517  corp_1000552  NaN\n",
       "518  corp_1001079  NaN\n",
       "519  corp_1004730  NaN\n",
       "520  corp_1000350  NaN\n",
       "521  corp_1002156  NaN\n",
       "\n",
       "[5022 rows x 2 columns]"
      ]
     },
     "execution_count": 3,
     "metadata": {},
     "output_type": "execute_result"
    }
   ],
   "source": [
    "data_all"
   ]
  },
  {
   "cell_type": "code",
   "execution_count": 4,
   "id": "80567d25",
   "metadata": {},
   "outputs": [],
   "source": [
    "folder_path = './数据集/科创企业成长潜力模型/data'  # 替换为你的文件夹路径\n",
    "excel_files = [file for file in os.listdir(folder_path) if file.endswith('.xlsx') and '荣誉' in file]"
   ]
  },
  {
   "cell_type": "code",
   "execution_count": 5,
   "id": "d88d139b",
   "metadata": {},
   "outputs": [
    {
     "data": {
      "text/plain": [
       "5"
      ]
     },
     "execution_count": 5,
     "metadata": {},
     "output_type": "execute_result"
    }
   ],
   "source": [
    "len(excel_files)"
   ]
  },
  {
   "cell_type": "code",
   "execution_count": 6,
   "id": "2c4d144e",
   "metadata": {},
   "outputs": [
    {
     "data": {
      "text/plain": [
       "['人才荣誉标签_优秀民营企业家.xlsx',\n",
       " '人才荣誉标签_国家万人计划.xlsx',\n",
       " '人才荣誉标签_政府评定其他类型人才榜单.xlsx',\n",
       " '人才荣誉标签_领军人才计划.xlsx',\n",
       " '荣誉标签_创客中国奖项.xlsx']"
      ]
     },
     "execution_count": 6,
     "metadata": {},
     "output_type": "execute_result"
    }
   ],
   "source": [
    "excel_files"
   ]
  },
  {
   "cell_type": "code",
   "execution_count": 7,
   "id": "83243d06",
   "metadata": {},
   "outputs": [],
   "source": [
    "df1 = pd.read_excel('./数据集/科创企业成长潜力模型/data/'+excel_files[0],index_col=0)\n",
    "df1.rename(columns={'企业名称':'ID','姓名':'优秀民营企业家_姓名'}, inplace = True)\n",
    "df1 = df1.groupby(['ID']).agg({'优秀民营企业家_姓名':'nunique'}).reset_index().fillna(0)\n",
    "data_all = data_all.merge(df1,on='ID',how='left')"
   ]
  },
  {
   "cell_type": "code",
   "execution_count": 8,
   "id": "171e5439",
   "metadata": {
    "scrolled": true
   },
   "outputs": [],
   "source": [
    "df2 = pd.read_excel('./数据集/科创企业成长潜力模型/data/'+excel_files[1],index_col=0)\n",
    "df2.rename(columns={'企业名称':'ID','姓名':'国家万人计划_姓名'}, inplace = True)\n",
    "df2 = df2.groupby(['ID']).agg({'国家万人计划_姓名':'nunique'}).reset_index().fillna(0)\n",
    "data_all = data_all.merge(df2,on='ID',how='left')"
   ]
  },
  {
   "cell_type": "code",
   "execution_count": 9,
   "id": "169aa1c4",
   "metadata": {},
   "outputs": [],
   "source": [
    "df3 = pd.read_excel('./数据集/科创企业成长潜力模型/data/'+excel_files[2],index_col=0)\n",
    "df3.rename(columns={'公司名':'ID','姓名':'政府评定其他类型人才榜单_姓名'}, inplace = True)\n",
    "df3['发布日期'] = pd.to_datetime(df3['发布日期'])\n",
    "df3 = df3[df3['发布日期'] > '2015-01-01']\n",
    "df3 = df3.groupby(['ID']).agg({'政府评定其他类型人才榜单_姓名':'nunique'}).reset_index().fillna(0)\n",
    "data_all = data_all.merge(df3,on='ID',how='left')"
   ]
  },
  {
   "cell_type": "code",
   "execution_count": 10,
   "id": "8e504c83",
   "metadata": {},
   "outputs": [],
   "source": [
    "df4 = pd.read_excel('./数据集/科创企业成长潜力模型/data/'+excel_files[3],index_col=0)\n",
    "df4.rename(columns={'企业名称':'ID','姓名':'领军人才计划_姓名'}, inplace = True)\n",
    "df4 = df4.groupby(['ID']).agg({'领军人才计划_姓名':'nunique'}).reset_index().fillna(0)\n",
    "data_all = data_all.merge(df4,on='ID',how='left')"
   ]
  },
  {
   "cell_type": "code",
   "execution_count": 12,
   "id": "c2893395",
   "metadata": {},
   "outputs": [],
   "source": [
    "df5 = pd.read_excel('./数据集/科创企业成长潜力模型/data/'+excel_files[4],index_col=0)\n",
    "df5.rename(columns={'企业名称':'ID','奖项等级':'创客中国奖项_奖项等级'}, inplace = True)\n",
    "df5['创客中国奖项_奖项等级'] = df5['创客中国奖项_奖项等级'].map({'其他奖': 1, '三等奖': 2, '二等奖': 3, '一等奖': 4})\n",
    "df5 = df5.groupby(['ID']).agg({'创客中国奖项_奖项等级':'sum'}).reset_index().fillna(0)\n",
    "data_all = data_all.merge(df5,on='ID',how='left')"
   ]
  },
  {
   "cell_type": "code",
   "execution_count": 13,
   "id": "cdf67ea2",
   "metadata": {},
   "outputs": [
    {
     "data": {
      "text/html": [
       "<div>\n",
       "<style scoped>\n",
       "    .dataframe tbody tr th:only-of-type {\n",
       "        vertical-align: middle;\n",
       "    }\n",
       "\n",
       "    .dataframe tbody tr th {\n",
       "        vertical-align: top;\n",
       "    }\n",
       "\n",
       "    .dataframe thead th {\n",
       "        text-align: right;\n",
       "    }\n",
       "</style>\n",
       "<table border=\"1\" class=\"dataframe\">\n",
       "  <thead>\n",
       "    <tr style=\"text-align: right;\">\n",
       "      <th></th>\n",
       "      <th>ID</th>\n",
       "      <th>Y</th>\n",
       "      <th>优秀民营企业家_姓名</th>\n",
       "      <th>国家万人计划_姓名</th>\n",
       "      <th>政府评定其他类型人才榜单_姓名</th>\n",
       "      <th>领军人才计划_姓名</th>\n",
       "      <th>创客中国奖项_奖项等级</th>\n",
       "    </tr>\n",
       "  </thead>\n",
       "  <tbody>\n",
       "    <tr>\n",
       "      <th>0</th>\n",
       "      <td>corp_1001749</td>\n",
       "      <td>0.0</td>\n",
       "      <td>NaN</td>\n",
       "      <td>NaN</td>\n",
       "      <td>NaN</td>\n",
       "      <td>NaN</td>\n",
       "      <td>NaN</td>\n",
       "    </tr>\n",
       "    <tr>\n",
       "      <th>1</th>\n",
       "      <td>corp_1001231</td>\n",
       "      <td>0.0</td>\n",
       "      <td>NaN</td>\n",
       "      <td>NaN</td>\n",
       "      <td>NaN</td>\n",
       "      <td>NaN</td>\n",
       "      <td>NaN</td>\n",
       "    </tr>\n",
       "    <tr>\n",
       "      <th>2</th>\n",
       "      <td>corp_1004522</td>\n",
       "      <td>0.0</td>\n",
       "      <td>NaN</td>\n",
       "      <td>NaN</td>\n",
       "      <td>NaN</td>\n",
       "      <td>NaN</td>\n",
       "      <td>NaN</td>\n",
       "    </tr>\n",
       "    <tr>\n",
       "      <th>3</th>\n",
       "      <td>corp_1001738</td>\n",
       "      <td>1.0</td>\n",
       "      <td>NaN</td>\n",
       "      <td>NaN</td>\n",
       "      <td>NaN</td>\n",
       "      <td>NaN</td>\n",
       "      <td>NaN</td>\n",
       "    </tr>\n",
       "    <tr>\n",
       "      <th>4</th>\n",
       "      <td>corp_1003948</td>\n",
       "      <td>1.0</td>\n",
       "      <td>NaN</td>\n",
       "      <td>NaN</td>\n",
       "      <td>NaN</td>\n",
       "      <td>NaN</td>\n",
       "      <td>NaN</td>\n",
       "    </tr>\n",
       "    <tr>\n",
       "      <th>...</th>\n",
       "      <td>...</td>\n",
       "      <td>...</td>\n",
       "      <td>...</td>\n",
       "      <td>...</td>\n",
       "      <td>...</td>\n",
       "      <td>...</td>\n",
       "      <td>...</td>\n",
       "    </tr>\n",
       "    <tr>\n",
       "      <th>5017</th>\n",
       "      <td>corp_1000552</td>\n",
       "      <td>NaN</td>\n",
       "      <td>NaN</td>\n",
       "      <td>NaN</td>\n",
       "      <td>1.0</td>\n",
       "      <td>NaN</td>\n",
       "      <td>NaN</td>\n",
       "    </tr>\n",
       "    <tr>\n",
       "      <th>5018</th>\n",
       "      <td>corp_1001079</td>\n",
       "      <td>NaN</td>\n",
       "      <td>NaN</td>\n",
       "      <td>NaN</td>\n",
       "      <td>NaN</td>\n",
       "      <td>NaN</td>\n",
       "      <td>NaN</td>\n",
       "    </tr>\n",
       "    <tr>\n",
       "      <th>5019</th>\n",
       "      <td>corp_1004730</td>\n",
       "      <td>NaN</td>\n",
       "      <td>NaN</td>\n",
       "      <td>NaN</td>\n",
       "      <td>NaN</td>\n",
       "      <td>NaN</td>\n",
       "      <td>NaN</td>\n",
       "    </tr>\n",
       "    <tr>\n",
       "      <th>5020</th>\n",
       "      <td>corp_1000350</td>\n",
       "      <td>NaN</td>\n",
       "      <td>NaN</td>\n",
       "      <td>NaN</td>\n",
       "      <td>NaN</td>\n",
       "      <td>NaN</td>\n",
       "      <td>NaN</td>\n",
       "    </tr>\n",
       "    <tr>\n",
       "      <th>5021</th>\n",
       "      <td>corp_1002156</td>\n",
       "      <td>NaN</td>\n",
       "      <td>NaN</td>\n",
       "      <td>NaN</td>\n",
       "      <td>NaN</td>\n",
       "      <td>NaN</td>\n",
       "      <td>NaN</td>\n",
       "    </tr>\n",
       "  </tbody>\n",
       "</table>\n",
       "<p>5022 rows × 7 columns</p>\n",
       "</div>"
      ],
      "text/plain": [
       "                ID    Y  优秀民营企业家_姓名  国家万人计划_姓名  政府评定其他类型人才榜单_姓名  领军人才计划_姓名  \\\n",
       "0     corp_1001749  0.0         NaN        NaN              NaN        NaN   \n",
       "1     corp_1001231  0.0         NaN        NaN              NaN        NaN   \n",
       "2     corp_1004522  0.0         NaN        NaN              NaN        NaN   \n",
       "3     corp_1001738  1.0         NaN        NaN              NaN        NaN   \n",
       "4     corp_1003948  1.0         NaN        NaN              NaN        NaN   \n",
       "...            ...  ...         ...        ...              ...        ...   \n",
       "5017  corp_1000552  NaN         NaN        NaN              1.0        NaN   \n",
       "5018  corp_1001079  NaN         NaN        NaN              NaN        NaN   \n",
       "5019  corp_1004730  NaN         NaN        NaN              NaN        NaN   \n",
       "5020  corp_1000350  NaN         NaN        NaN              NaN        NaN   \n",
       "5021  corp_1002156  NaN         NaN        NaN              NaN        NaN   \n",
       "\n",
       "      创客中国奖项_奖项等级  \n",
       "0             NaN  \n",
       "1             NaN  \n",
       "2             NaN  \n",
       "3             NaN  \n",
       "4             NaN  \n",
       "...           ...  \n",
       "5017          NaN  \n",
       "5018          NaN  \n",
       "5019          NaN  \n",
       "5020          NaN  \n",
       "5021          NaN  \n",
       "\n",
       "[5022 rows x 7 columns]"
      ]
     },
     "execution_count": 13,
     "metadata": {},
     "output_type": "execute_result"
    }
   ],
   "source": [
    "data_all"
   ]
  },
  {
   "cell_type": "code",
   "execution_count": 14,
   "id": "491f1f54",
   "metadata": {},
   "outputs": [],
   "source": [
    "data_all.to_csv('honor.csv',index=0)"
   ]
  },
  {
   "cell_type": "code",
   "execution_count": null,
   "id": "27c7a069",
   "metadata": {},
   "outputs": [],
   "source": []
  }
 ],
 "metadata": {
  "kernelspec": {
   "display_name": "Python 3",
   "language": "python",
   "name": "python3"
  },
  "language_info": {
   "codemirror_mode": {
    "name": "ipython",
    "version": 3
   },
   "file_extension": ".py",
   "mimetype": "text/x-python",
   "name": "python",
   "nbconvert_exporter": "python",
   "pygments_lexer": "ipython3",
   "version": "3.9.13"
  }
 },
 "nbformat": 4,
 "nbformat_minor": 5
}
