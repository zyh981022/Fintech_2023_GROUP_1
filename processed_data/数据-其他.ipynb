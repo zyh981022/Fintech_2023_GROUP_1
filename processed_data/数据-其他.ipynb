{
 "cells": [
  {
   "cell_type": "code",
   "execution_count": 1,
   "id": "ad901495",
   "metadata": {},
   "outputs": [],
   "source": [
    "import os\n",
    "import pandas as pd \n",
    "import numpy as np\n",
    "import re"
   ]
  },
  {
   "cell_type": "code",
   "execution_count": 2,
   "id": "24655159",
   "metadata": {},
   "outputs": [],
   "source": [
    "train = pd.read_csv('./数据集/科创企业成长潜力模型/label/train_2.csv')\n",
    "train.rename(columns={'label':'Y'}, inplace = True)\n",
    "test = pd.read_csv('./数据集/科创企业成长潜力模型/upload.csv')\n",
    "\n",
    "data_all = pd.concat((train[['ID','Y']],test[['ID','Y']]))"
   ]
  },
  {
   "cell_type": "code",
   "execution_count": 3,
   "id": "38af46b3",
   "metadata": {},
   "outputs": [
    {
     "data": {
      "text/html": [
       "<div>\n",
       "<style scoped>\n",
       "    .dataframe tbody tr th:only-of-type {\n",
       "        vertical-align: middle;\n",
       "    }\n",
       "\n",
       "    .dataframe tbody tr th {\n",
       "        vertical-align: top;\n",
       "    }\n",
       "\n",
       "    .dataframe thead th {\n",
       "        text-align: right;\n",
       "    }\n",
       "</style>\n",
       "<table border=\"1\" class=\"dataframe\">\n",
       "  <thead>\n",
       "    <tr style=\"text-align: right;\">\n",
       "      <th></th>\n",
       "      <th>ID</th>\n",
       "      <th>Y</th>\n",
       "    </tr>\n",
       "  </thead>\n",
       "  <tbody>\n",
       "    <tr>\n",
       "      <th>0</th>\n",
       "      <td>corp_1001749</td>\n",
       "      <td>0.0</td>\n",
       "    </tr>\n",
       "    <tr>\n",
       "      <th>1</th>\n",
       "      <td>corp_1001231</td>\n",
       "      <td>0.0</td>\n",
       "    </tr>\n",
       "    <tr>\n",
       "      <th>2</th>\n",
       "      <td>corp_1004522</td>\n",
       "      <td>0.0</td>\n",
       "    </tr>\n",
       "    <tr>\n",
       "      <th>3</th>\n",
       "      <td>corp_1001738</td>\n",
       "      <td>1.0</td>\n",
       "    </tr>\n",
       "    <tr>\n",
       "      <th>4</th>\n",
       "      <td>corp_1003948</td>\n",
       "      <td>1.0</td>\n",
       "    </tr>\n",
       "    <tr>\n",
       "      <th>...</th>\n",
       "      <td>...</td>\n",
       "      <td>...</td>\n",
       "    </tr>\n",
       "    <tr>\n",
       "      <th>517</th>\n",
       "      <td>corp_1000552</td>\n",
       "      <td>NaN</td>\n",
       "    </tr>\n",
       "    <tr>\n",
       "      <th>518</th>\n",
       "      <td>corp_1001079</td>\n",
       "      <td>NaN</td>\n",
       "    </tr>\n",
       "    <tr>\n",
       "      <th>519</th>\n",
       "      <td>corp_1004730</td>\n",
       "      <td>NaN</td>\n",
       "    </tr>\n",
       "    <tr>\n",
       "      <th>520</th>\n",
       "      <td>corp_1000350</td>\n",
       "      <td>NaN</td>\n",
       "    </tr>\n",
       "    <tr>\n",
       "      <th>521</th>\n",
       "      <td>corp_1002156</td>\n",
       "      <td>NaN</td>\n",
       "    </tr>\n",
       "  </tbody>\n",
       "</table>\n",
       "<p>5022 rows × 2 columns</p>\n",
       "</div>"
      ],
      "text/plain": [
       "               ID    Y\n",
       "0    corp_1001749  0.0\n",
       "1    corp_1001231  0.0\n",
       "2    corp_1004522  0.0\n",
       "3    corp_1001738  1.0\n",
       "4    corp_1003948  1.0\n",
       "..            ...  ...\n",
       "517  corp_1000552  NaN\n",
       "518  corp_1001079  NaN\n",
       "519  corp_1004730  NaN\n",
       "520  corp_1000350  NaN\n",
       "521  corp_1002156  NaN\n",
       "\n",
       "[5022 rows x 2 columns]"
      ]
     },
     "execution_count": 3,
     "metadata": {},
     "output_type": "execute_result"
    }
   ],
   "source": [
    "data_all"
   ]
  },
  {
   "cell_type": "code",
   "execution_count": 4,
   "id": "e0e84b83",
   "metadata": {},
   "outputs": [],
   "source": [
    "folder_path = './数据集/科创企业成长潜力模型/data'  # 替换为你的文件夹路径\n",
    "excel_files = [file for file in os.listdir(folder_path) if file.endswith('.xlsx') and file.startswith('其他') ]"
   ]
  },
  {
   "cell_type": "code",
   "execution_count": 5,
   "id": "2139ed9d",
   "metadata": {},
   "outputs": [
    {
     "data": {
      "text/plain": [
       "6"
      ]
     },
     "execution_count": 5,
     "metadata": {},
     "output_type": "execute_result"
    }
   ],
   "source": [
    "len(excel_files)"
   ]
  },
  {
   "cell_type": "code",
   "execution_count": 6,
   "id": "35dbaabb",
   "metadata": {},
   "outputs": [
    {
     "data": {
      "text/plain": [
       "['其他_国家科技成果表.xlsx',\n",
       " '其他_备案核准投资项目.xlsx',\n",
       " '其他_科技成果转化项目.xlsx',\n",
       " '其他_科技成果转化项目基本信息.xlsx',\n",
       " '其他_药物临床试验信息.xlsx',\n",
       " '其他_重点研发计划立项项目.xlsx']"
      ]
     },
     "execution_count": 6,
     "metadata": {},
     "output_type": "execute_result"
    }
   ],
   "source": [
    "excel_files"
   ]
  },
  {
   "cell_type": "code",
   "execution_count": 7,
   "id": "357d48eb",
   "metadata": {},
   "outputs": [],
   "source": [
    "def get_peo_num(x):\n",
    "    pattern = r\"姓名_\\d+\"\n",
    "    matches = re.findall(pattern, x)\n",
    "    count = len(matches)\n",
    "    return count\n",
    "\n",
    "df1 = pd.read_excel('./数据集/科创企业成长潜力模型/data/'+excel_files[0],index_col=0)\n",
    "df1.rename(columns={'成果完成单位':'ID'}, inplace = True)\n",
    "df1['成果完成人'] = df1['成果完成人'].apply(get_peo_num)\n",
    "\n",
    "features = df1.groupby('ID')['成果名称'].count().reset_index(drop=False)\n",
    "features.rename(columns= {'成果名称':'国家科技成果_成果个数'},inplace=True)\n",
    "type_class = df1['成果类型'].unique()\n",
    "type_class = type_class[~pd.isna(type_class)]\n",
    "for year in range(2015,2022):\n",
    "    sub_data =df1[df1['成果登记年份']==str(year)].groupby('ID')['成果完成人'].count().reset_index(drop=False)\n",
    "    sub_data.rename(columns= {'成果完成人':f'{year}年_成果完成人数'},inplace=True)\n",
    "    features = features.merge(sub_data,how='left',on='ID')\n",
    "    for cl in type_class:\n",
    "        sub_data = df1[(df1['成果类型']== cl)&(df1['成果登记年份']==year)].groupby('ID')['成果完成人'].sum().reset_index(drop=False)\n",
    "        sub_data.rename(columns={'成果完成人':f'{year}年_国家科技成果_{cl}_完成人数量'},inplace=True)\n",
    "        features = features.merge(sub_data,how='left',on='ID')\n",
    "        \n",
    "data_all = data_all.merge(features,how='left',on='ID')"
   ]
  },
  {
   "cell_type": "code",
   "execution_count": 8,
   "id": "78f9cff3",
   "metadata": {},
   "outputs": [],
   "source": [
    "def get_num(x):\n",
    "    if isinstance(x, str):\n",
    "        numbers = re.findall(r'\\d+(?:\\.\\d+)?', x)\n",
    "        if numbers:\n",
    "            extracted_number = float(numbers[0])\n",
    "            return extracted_number\n",
    "        else:\n",
    "            return None\n",
    "    else:\n",
    "        return None\n",
    "def get_zichou(x):\n",
    "    if isinstance(x, str):\n",
    "        if '自筹' in x:\n",
    "            return 1\n",
    "        else:\n",
    "            return 0\n",
    "    else:\n",
    "        return None\n",
    "    \n",
    "df2 = pd.read_excel('./数据集/科创企业成长潜力模型/data/'+excel_files[1],index_col=0)\n",
    "df2['审批时间'] = df2['审批时间'].dt.year\n",
    "df2 = df2[df2['申报单位或法人单位（公示名称）'].notna()]\n",
    "df2.rename(columns={'申报单位或法人单位（公示名称）':'ID'}, inplace = True)\n",
    "df2['自筹'] = df2['总投资'].apply(get_zichou)\n",
    "df2['总投资'] = df2['总投资'].apply(get_num)\n",
    "\n",
    "\n",
    "features = df2.groupby('ID')['项目名称'].count().reset_index(drop=False)\n",
    "features.rename(columns= {'项目名称':'备案核准投资项目_项目名称'},inplace=True)\n",
    "type_class = [0,1]\n",
    "for year in range(2018,2023):\n",
    "    sub_data = df2[df2['审批时间']==year].groupby('ID')['项目名称'].count().reset_index(drop=False)\n",
    "    sub_data.rename(columns= {'项目名称':f'{year}年_备案核准投资项目名称数'},inplace=True)\n",
    "    features = features.merge(sub_data,how='left',on='ID')\n",
    "    \n",
    "    sub_data = df2[df2['审批时间']==year].groupby('ID')['总投资'].sum().reset_index(drop=False)\n",
    "    sub_data.rename(columns= {'总投资':f'{year}年_备案核准投资项目总投资'},inplace=True)\n",
    "    features = features.merge(sub_data,how='left',on='ID')\n",
    "    \n",
    "    sub_data = df2[df2['审批时间']==year].groupby('ID')['自筹'].sum().reset_index(drop=False)\n",
    "    sub_data.rename(columns= {'自筹':f'{year}年_备案核准投资项目自筹数'},inplace=True)\n",
    "    features = features.merge(sub_data,how='left',on='ID')\n",
    "    \n",
    "data_all = data_all.merge(features,how='left',on='ID')"
   ]
  },
  {
   "cell_type": "code",
   "execution_count": 9,
   "id": "121e50cd",
   "metadata": {},
   "outputs": [],
   "source": [
    "df3 = pd.read_excel('./数据集/科创企业成长潜力模型/data/'+excel_files[2],index_col=0)\n",
    "df3.rename(columns={'原名单公司现名称':'ID'}, inplace = True)\n",
    "df3 = df3.merge(data_all,on='ID',how='left')\n",
    "df3['级别'] = df3.groupby('级别')['Y'].transform('mean').fillna(0)\n",
    "df3['分类'] = df3.groupby('分类')['Y'].transform('mean').fillna(0)\n",
    "df3['类型'] = df3.groupby('类型')['Y'].transform('mean').fillna(0)\n",
    "features = df3.groupby('ID').agg({'级别':'sum','分类':'sum','类型':'sum','项目名称':'count'}).reset_index()\n",
    "features.rename(columns= {'项目名称':'科技成果转化项目_项目个数','级别':'科技成果转化项目_级别','分类':'科技成果转化项目_分类','类型':'科技成果转化项目_类型'},inplace=True)\n",
    "\n",
    "for year in range(2018,2023):\n",
    "    sub_data = df3[df3['年度']==year].groupby('ID')['项目名称'].count().reset_index(drop=False)\n",
    "    sub_data.rename(columns= {'项目名称':f'{year}年_科技成果转化项目数'},inplace=True)\n",
    "    features = features.merge(sub_data,how='left',on='ID')\n",
    "    \n",
    "    sub_data = df3[df3['年度']==year].groupby('ID')['级别'].sum().reset_index(drop=False)\n",
    "    sub_data.rename(columns= {'级别':f'{year}年_科技成果转化项目级别'},inplace=True)\n",
    "    features = features.merge(sub_data,how='left',on='ID')\n",
    "    \n",
    "    sub_data = df3[df3['年度']==year].groupby('ID')['分类'].sum().reset_index(drop=False)\n",
    "    sub_data.rename(columns= {'分类':f'{year}年_科技成果转化项目分类'},inplace=True)\n",
    "    features = features.merge(sub_data,how='left',on='ID')\n",
    "    \n",
    "    sub_data = df3[df3['年度']==year].groupby('ID')['类型'].sum().reset_index(drop=False)\n",
    "    sub_data.rename(columns= {'类型':f'{year}年_科技成果转化项目类型'},inplace=True)\n",
    "    features = features.merge(sub_data,how='left',on='ID')\n",
    "    \n",
    "data_all = data_all.merge(features,how='left',on='ID')"
   ]
  },
  {
   "cell_type": "code",
   "execution_count": 10,
   "id": "221c9ba4",
   "metadata": {},
   "outputs": [],
   "source": [
    "df4 = pd.read_excel('./数据集/科创企业成长潜力模型/data/'+excel_files[3],index_col=0)\n",
    "df4.rename(columns={'公司名称':'ID'}, inplace = True)\n",
    "df4 = df4.merge(data_all,on='ID',how='left')\n",
    "\n",
    "df4['级别'] = df4.groupby('级别')['Y'].transform('mean').fillna(0)\n",
    "df4['分类'] = df4.groupby('分类')['Y'].transform('mean').fillna(0)\n",
    "df4['类型'] = df4.groupby('类型')['Y'].transform('mean').fillna(0)\n",
    "features = df4.groupby('ID').agg({'级别':'sum','分类':'sum','类型':'sum','项目名称':'count'}).reset_index()\n",
    "features.rename(columns= {'项目名称':'科技成果转化项目基本信息_项目个数','级别':'科技成果转化项目基本信息_级别','分类':'科技成果转化项目基本信息_分类','类型':'科技成果转化项目基本信息_类型'},inplace=True)\n",
    "\n",
    "for year in range(2018,2023):\n",
    "    sub_data = df4[df4['发布年度']==year].groupby('ID')['项目名称'].count().reset_index(drop=False)\n",
    "    sub_data.rename(columns= {'项目名称':f'{year}年_科技成果转化项目数'},inplace=True)\n",
    "    features = features.merge(sub_data,how='left',on='ID')\n",
    "    \n",
    "    sub_data = df4[df4['发布年度']==year].groupby('ID')['级别'].sum().reset_index(drop=False)\n",
    "    sub_data.rename(columns= {'级别':f'{year}年_科技成果转化项目级别'},inplace=True)\n",
    "    features = features.merge(sub_data,how='left',on='ID')\n",
    "    \n",
    "    sub_data = df4[df4['发布年度']==year].groupby('ID')['分类'].sum().reset_index(drop=False)\n",
    "    sub_data.rename(columns= {'分类':f'{year}年_科技成果转化项目分类'},inplace=True)\n",
    "    features = features.merge(sub_data,how='left',on='ID')\n",
    "    \n",
    "    sub_data = df4[df4['发布年度']==year].groupby('ID')['类型'].sum().reset_index(drop=False)\n",
    "    sub_data.rename(columns= {'类型':f'{year}年_科技成果转化项目类型'},inplace=True)\n",
    "    features = features.merge(sub_data,how='left',on='ID')\n",
    "    \n",
    "data_all = data_all.merge(features,how='left',on='ID')"
   ]
  },
  {
   "cell_type": "code",
   "execution_count": 11,
   "id": "1c7e9eb8",
   "metadata": {},
   "outputs": [],
   "source": [
    "def get_num(x):\n",
    "    if isinstance(x, str):\n",
    "        numbers = re.findall(r'\\d+(?:\\.\\d+)?', x)\n",
    "        if numbers:\n",
    "            extracted_number = float(numbers[0])\n",
    "            return extracted_number\n",
    "        else:\n",
    "            return None\n",
    "    else:\n",
    "        return None"
   ]
  },
  {
   "cell_type": "code",
   "execution_count": 12,
   "id": "f3be505c",
   "metadata": {},
   "outputs": [],
   "source": [
    "df5 = pd.read_excel('./数据集/科创企业成长潜力模型/data/'+excel_files[4],index_col=0)\n",
    "df5.rename(columns={'企业名称':'ID'}, inplace = True)\n",
    "df5 = df5[df5['ID'].notna()]\n",
    "df5['试验公示日期'] = df5['试验公示日期'].apply(lambda x: x[:4])\n",
    "df5['目标入组人数'] = df5['目标入组人数'].apply(get_num)\n",
    "df5 = df5.merge(data_all,on='ID',how='left')\n",
    "\n",
    "df5['剂型'] = df5.groupby('剂型')['Y'].transform('mean').fillna(0)\n",
    "df5['试验状态'] = df5.groupby('试验状态')['Y'].transform('mean').fillna(0)\n",
    "\n",
    "features = df5.groupby('ID').agg({'剂型':'sum','试验状态':'sum','目标入组人数':'sum','产品名称':'count'}).reset_index()\n",
    "for year in range(2018,2023):\n",
    "    sub_data = df5[df5['试验公示日期']==year].groupby('ID')['产品名称'].count().reset_index(drop=False)\n",
    "    sub_data.rename(columns= {'产品名称':f'{year}年_药物临床项目数'},inplace=True)\n",
    "    features = features.merge(sub_data,how='left',on='ID')\n",
    "    \n",
    "    sub_data = df5[df5['试验公示日期']==year].groupby('ID')['剂型'].sum().reset_index(drop=False)\n",
    "    sub_data.rename(columns= {'剂型':f'{year}年_药物临床剂型'},inplace=True)\n",
    "    features = features.merge(sub_data,how='left',on='ID')\n",
    "    \n",
    "    sub_data = df5[df5['试验公示日期']==year].groupby('ID')['试验状态'].sum().reset_index(drop=False)\n",
    "    sub_data.rename(columns= {'试验状态':f'{year}年_药物临床试验状态'},inplace=True)\n",
    "    features = features.merge(sub_data,how='left',on='ID')\n",
    "    \n",
    "    sub_data = df5[df5['试验公示日期']==year].groupby('ID')['目标入组人数'].sum().reset_index(drop=False)\n",
    "    sub_data.rename(columns= {'目标入组人数':f'{year}年_药物临床目标入组人数'},inplace=True)\n",
    "    features = features.merge(sub_data,how='left',on='ID')\n",
    "data_all = data_all.merge(features,how='left',on='ID')"
   ]
  },
  {
   "cell_type": "code",
   "execution_count": 13,
   "id": "413d7a1f",
   "metadata": {},
   "outputs": [],
   "source": [
    "df6 = pd.read_excel('./数据集/科创企业成长潜力模型/data/'+excel_files[5],index_col=0)\n",
    "df6.rename(columns={'企业名称':'ID'}, inplace = True)\n",
    "df6 = df6[df6['ID'].notna()]\n",
    "\n",
    "df6 = df6.merge(data_all,on='ID',how='left')\n",
    "df6['项目类型'] = df6.groupby('项目类型')['Y'].transform('mean').fillna(0)\n",
    "\n",
    "features = df6.groupby('ID').agg({'项目类型':'sum','项目名称':'count'}).reset_index()\n",
    "data_all = data_all.merge(features,how='left',on='ID')"
   ]
  },
  {
   "cell_type": "code",
   "execution_count": 15,
   "id": "5cf00a4b",
   "metadata": {},
   "outputs": [],
   "source": [
    "data_all.to_csv('other_new.csv',index=0)"
   ]
  },
  {
   "cell_type": "code",
   "execution_count": null,
   "id": "6f2fa1bd",
   "metadata": {},
   "outputs": [],
   "source": []
  }
 ],
 "metadata": {
  "kernelspec": {
   "display_name": "Python 3",
   "language": "python",
   "name": "python3"
  },
  "language_info": {
   "codemirror_mode": {
    "name": "ipython",
    "version": 3
   },
   "file_extension": ".py",
   "mimetype": "text/x-python",
   "name": "python",
   "nbconvert_exporter": "python",
   "pygments_lexer": "ipython3",
   "version": "3.9.13"
  }
 },
 "nbformat": 4,
 "nbformat_minor": 5
}
